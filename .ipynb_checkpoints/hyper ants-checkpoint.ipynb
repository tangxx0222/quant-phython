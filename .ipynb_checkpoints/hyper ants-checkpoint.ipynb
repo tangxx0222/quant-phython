{
 "cells": [
  {
   "cell_type": "markdown",
   "metadata": {},
   "source": [
    "# Hyper-ants: ants traveling in hyperspace\n",
    "An ant is at the origin in n-dimentional Euclidean space, and is about to traverse the edges of a hypercube with sides of unit length. At each vertex, the ant randomly chooses an edge, and moves to the next vertex. On average, how far will the ant travel until it reaches(1,1,...,1)?"
   ]
  },
  {
   "cell_type": "code",
   "execution_count": 1,
   "metadata": {},
   "outputs": [
    {
     "data": {
      "text/plain": [
       "[0, 0, 0]"
      ]
     },
     "execution_count": 1,
     "metadata": {},
     "output_type": "execute_result"
    }
   ],
   "source": [
    "def number_Of_Moves(dimension):\n",
    "    #return the number of moves needed for \n",
    "    #one simulated trip by the ant.\n",
    "    vertex= [0]*dimension\n",
    "    return vertex\n",
    "\n",
    "number_Of_Moves(3)    "
   ]
  },
  {
   "cell_type": "code",
   "execution_count": 20,
   "metadata": {},
   "outputs": [
    {
     "data": {
      "text/plain": [
       "10.02514"
      ]
     },
     "execution_count": 20,
     "metadata": {},
     "output_type": "execute_result"
    }
   ],
   "source": [
    "from random import randint\n",
    "def number_of_moves(dimension):\n",
    "    #return the number of moves needed for \n",
    "    #one simulated trip by the ant.\n",
    "    vertex= [0]*dimension\n",
    "    move_count=0\n",
    "    while sum(vertex)< dimension:\n",
    "        axis_choice=randint(0,dimension-1)          #get random numbers,inclusive\n",
    "        vertex[axis_choice]=1-vertex[axis_choice]   #either 1 or 0\n",
    "        move_count +=1\n",
    "    return move_count\n",
    "\n",
    "number_of_trials=100000\n",
    "sum([number_of_moves(3) for i in range(number_of_trials)]) / number_of_trials\n"
   ]
  },
  {
   "cell_type": "code",
   "execution_count": 21,
   "metadata": {
    "collapsed": true
   },
   "outputs": [],
   "source": [
    "def sum_Workaround(vertex):       #another way to gathering\n",
    "    sum_=0\n",
    "    for coordinate in vertex:\n",
    "        sum_+=coordinate\n",
    "        return sum_              "
   ]
  },
  {
   "cell_type": "code",
   "execution_count": 27,
   "metadata": {},
   "outputs": [
    {
     "data": {
      "text/plain": [
       "[5,\n",
       " 3,\n",
       " 11,\n",
       " 7,\n",
       " 11,\n",
       " 7,\n",
       " 5,\n",
       " 9,\n",
       " 5,\n",
       " 9,\n",
       " 7,\n",
       " 7,\n",
       " 3,\n",
       " 23,\n",
       " 5,\n",
       " 11,\n",
       " 3,\n",
       " 7,\n",
       " 35,\n",
       " 3,\n",
       " 7,\n",
       " 9,\n",
       " 13,\n",
       " 3,\n",
       " 5,\n",
       " 7,\n",
       " 5,\n",
       " 5,\n",
       " 27,\n",
       " 5,\n",
       " 15,\n",
       " 9,\n",
       " 5,\n",
       " 9,\n",
       " 3,\n",
       " 15,\n",
       " 11,\n",
       " 3,\n",
       " 9,\n",
       " 13,\n",
       " 9,\n",
       " 3,\n",
       " 3,\n",
       " 19,\n",
       " 5,\n",
       " 11,\n",
       " 11,\n",
       " 13,\n",
       " 3,\n",
       " 11,\n",
       " 9,\n",
       " 3,\n",
       " 3,\n",
       " 3,\n",
       " 13,\n",
       " 17,\n",
       " 3,\n",
       " 5,\n",
       " 5,\n",
       " 15,\n",
       " 13,\n",
       " 15,\n",
       " 3,\n",
       " 5,\n",
       " 5,\n",
       " 3,\n",
       " 3,\n",
       " 5,\n",
       " 3,\n",
       " 25,\n",
       " 21,\n",
       " 5,\n",
       " 31,\n",
       " 13,\n",
       " 11,\n",
       " 3,\n",
       " 11,\n",
       " 15,\n",
       " 9,\n",
       " 21,\n",
       " 19,\n",
       " 11,\n",
       " 9,\n",
       " 3,\n",
       " 3,\n",
       " 19,\n",
       " 13,\n",
       " 7,\n",
       " 7,\n",
       " 19,\n",
       " 19,\n",
       " 5,\n",
       " 15,\n",
       " 11,\n",
       " 11,\n",
       " 5,\n",
       " 13,\n",
       " 5,\n",
       " 7,\n",
       " 5]"
      ]
     },
     "execution_count": 27,
     "metadata": {},
     "output_type": "execute_result"
    }
   ],
   "source": [
    "from random import randint\n",
    "def number_of_moves(dimension):\n",
    "    #return the number of moves needed for \n",
    "    #one simulated trip by the ant.\n",
    "    vertex= [0]*dimension\n",
    "    move_count=0\n",
    "    while sum(vertex)< dimension:\n",
    "        axis_choice=randint(0,dimension-1)          #get random numbers,inclusive\n",
    "        vertex[axis_choice]=1-vertex[axis_choice]   #either 1 or 0\n",
    "        move_count +=1\n",
    "    return move_count\n",
    "\n",
    "number_of_trials=100\n",
    "trials=[number_of_moves(3) for i in range(number_of_trials)]\n",
    "#number_move_count={for trial in trials}\n",
    "#for i in range(number_of_trials):\n",
    "trials\n"
   ]
  },
  {
   "cell_type": "code",
   "execution_count": 31,
   "metadata": {},
   "outputs": [
    {
     "data": {
      "text/plain": [
       "{3: 13,\n",
       " 5: 21,\n",
       " 7: 14,\n",
       " 9: 16,\n",
       " 11: 7,\n",
       " 13: 7,\n",
       " 15: 7,\n",
       " 17: 3,\n",
       " 19: 1,\n",
       " 21: 4,\n",
       " 23: 1,\n",
       " 29: 2,\n",
       " 33: 1,\n",
       " 35: 2,\n",
       " 49: 1}"
      ]
     },
     "execution_count": 31,
     "metadata": {},
     "output_type": "execute_result"
    }
   ],
   "source": [
    "from random import randint\n",
    "def number_of_moves(dimension):\n",
    "    #return the number of moves needed for \n",
    "    #one simulated trip by the ant.\n",
    "    vertex= [0]*dimension\n",
    "    move_count=0\n",
    "    while sum(vertex)< dimension:\n",
    "        axis_choice=randint(0,dimension-1)          #get random numbers,inclusive\n",
    "        vertex[axis_choice]=1-vertex[axis_choice]   #either 1 or 0\n",
    "        move_count +=1\n",
    "    return move_count\n",
    "\n",
    "number_of_trials=100\n",
    "trials= [number_of_moves(3) for i in range(number_of_trials)]\n",
    "#initialize dictionary t count frequency of number of moves\n",
    "number_moves_count={trial: 0 for trial in trials}\n",
    "for trial in trials:\n",
    "    number_moves_count[trial] +=1\n",
    "number_moves_count"
   ]
  },
  {
   "cell_type": "code",
   "execution_count": null,
   "metadata": {
    "collapsed": true
   },
   "outputs": [],
   "source": []
  },
  {
   "cell_type": "code",
   "execution_count": null,
   "metadata": {
    "collapsed": true
   },
   "outputs": [],
   "source": []
  }
 ],
 "metadata": {
  "kernelspec": {
   "display_name": "Python 3",
   "language": "python",
   "name": "python3"
  },
  "language_info": {
   "codemirror_mode": {
    "name": "ipython",
    "version": 3
   },
   "file_extension": ".py",
   "mimetype": "text/x-python",
   "name": "python",
   "nbconvert_exporter": "python",
   "pygments_lexer": "ipython3",
   "version": "3.6.1"
  }
 },
 "nbformat": 4,
 "nbformat_minor": 2
}
