{
 "cells": [
  {
   "cell_type": "markdown",
   "metadata": {},
   "source": [
    "# Python Basics\n",
    "\n",
    "This is a collection of exercises that I wrote as a refresher of key Python features.\n",
    "\n",
    "## Built-in datatypes and variable binding\n",
    "Python uses <a href=“”>late/runtime/dynamic binding</a>. This means that the type of data in a variable is not explicitly identified in a program, like it is in C++ or Java.\""
   ]
  },
  {
   "cell_type": "code",
   "execution_count": 2,
   "metadata": {},
   "outputs": [
    {
     "name": "stdout",
     "output_type": "stream",
     "text": [
      "5 <class 'int'>\n",
      "512 <class 'int'>\n"
     ]
    }
   ],
   "source": [
    "x=5\n",
    "print(x, type(x))\n",
    "x=2*256\n",
    "print(x, type(x))\n"
   ]
  },
  {
   "cell_type": "markdown",
   "metadata": {},
   "source": [
    "## ints and floats"
   ]
  },
  {
   "cell_type": "code",
   "execution_count": 8,
   "metadata": {},
   "outputs": [
    {
     "name": "stdout",
     "output_type": "stream",
     "text": [
      "7%2=1\n"
     ]
    }
   ],
   "source": [
    "7//2\n",
    "7%2\n",
    "print('7%2=' + str(7%2))"
   ]
  },
  {
   "cell_type": "markdown",
   "metadata": {},
   "source": [
    "### boolean\n",
    "\n",
    "Python's boolean values are True and False. It is case-sensitive: capitalizing the first letter is required. "
   ]
  },
  {
   "cell_type": "code",
   "execution_count": 4,
   "metadata": {},
   "outputs": [
    {
     "name": "stdout",
     "output_type": "stream",
     "text": [
      "a is True\n",
      "b is False\n",
      "a and b is False\n",
      "a or b is True\n"
     ]
    }
   ],
   "source": [
    "a=True\n",
    "b=not a\n",
    "print('a is'+str(a))\n",
    "print('b is '+str(b))\n",
    "print('a and b is'+str(a and b))\n",
    "print('a or b is'+str(a or b))"
   ]
  },
  {
   "cell_type": "markdown",
   "metadata": {},
   "source": [
    "### Strings"
   ]
  },
  {
   "cell_type": "code",
   "execution_count": 7,
   "metadata": {},
   "outputs": [
    {
     "name": "stdout",
     "output_type": "stream",
     "text": [
      "hello,World\n",
      "['hello,World']\n",
      "hello,World\n"
     ]
    }
   ],
   "source": [
    "a=\"hello\"\n",
    "b=\"World\"\n",
    "c=a+\",\"+b\n",
    "print (c)\n",
    "words=c.split()\n",
    "print (words)\n",
    "print(' '.join (words))"
   ]
  },
  {
   "cell_type": "markdown",
   "metadata": {},
   "source": [
    "### Lists and tuples"
   ]
  },
  {
   "cell_type": "code",
   "execution_count": 4,
   "metadata": {},
   "outputs": [
    {
     "data": {
      "text/plain": [
       "[]"
      ]
     },
     "execution_count": 4,
     "metadata": {},
     "output_type": "execute_result"
    }
   ],
   "source": [
    "#shortcut for list of consecutive integers\n",
    "x = range(10,15)\n",
    "x[0:3]\n",
    "x = [10,11,12,13,14]\n",
    "x [11:]\n",
    "\n"
   ]
  },
  {
   "cell_type": "code",
   "execution_count": 41,
   "metadata": {},
   "outputs": [
    {
     "data": {
      "text/plain": [
       "[(0, 0),\n",
       " (1, 1),\n",
       " (2, 4),\n",
       " (3, 9),\n",
       " (4, 16),\n",
       " (5, 25),\n",
       " (6, 36),\n",
       " (7, 49),\n",
       " (8, 64),\n",
       " (9, 81)]"
      ]
     },
     "execution_count": 41,
     "metadata": {},
     "output_type": "execute_result"
    }
   ],
   "source": [
    "#List comprehension\n",
    "# create a list of squares for integers 0 to 9\n",
    "[x*x for x in range(10)]\n",
    "# create a list of tuples (x, x*x) for integers 0 to 9\n",
    "[(x, x*x) for x in range(10)]\n",
    "# create a list of tuples (x, x*x, x**3) for integers 0 to 9\n"
   ]
  },
  {
   "cell_type": "markdown",
   "metadata": {},
   "source": [
    "## Looping (for, while, reduce)"
   ]
  },
  {
   "cell_type": "code",
   "execution_count": 42,
   "metadata": {},
   "outputs": [
    {
     "data": {
      "text/plain": [
       "5050"
      ]
     },
     "execution_count": 42,
     "metadata": {},
     "output_type": "execute_result"
    }
   ],
   "source": [
    "#for\n",
    "#sum integers from 1 to 100\n",
    "sum_ =0\n",
    "for i in range(1,101):\n",
    "    sum_ += i\n",
    "sum_"
   ]
  },
  {
   "cell_type": "code",
   "execution_count": 45,
   "metadata": {},
   "outputs": [
    {
     "data": {
      "text/plain": [
       "5050"
      ]
     },
     "execution_count": 45,
     "metadata": {},
     "output_type": "execute_result"
    }
   ],
   "source": [
    "#while\n",
    "#sum integers from 1 to 100\n",
    "sum_ =0\n",
    "i = 1\n",
    "while i<101:\n",
    "    sum_ += i\n",
    "    i+= 1\n",
    "sum_\n",
    "\n"
   ]
  },
  {
   "cell_type": "code",
   "execution_count": 44,
   "metadata": {},
   "outputs": [
    {
     "data": {
      "text/plain": [
       "5050"
      ]
     },
     "execution_count": 44,
     "metadata": {},
     "output_type": "execute_result"
    }
   ],
   "source": [
    "#concise way to sum integers from 1 to 100 using reduce\n",
    "\n",
    "import functools\n",
    "functools.reduce(lambda i,sum_: i+sum_, range(1,101))"
   ]
  },
  {
   "cell_type": "code",
   "execution_count": 46,
   "metadata": {},
   "outputs": [
    {
     "data": {
      "text/plain": [
       "5050"
      ]
     },
     "execution_count": 46,
     "metadata": {},
     "output_type": "execute_result"
    }
   ],
   "source": [
    "#use the sum function\n",
    "sum(range(1,101))"
   ]
  },
  {
   "cell_type": "code",
   "execution_count": 47,
   "metadata": {},
   "outputs": [
    {
     "data": {
      "text/plain": [
       "5050.0"
      ]
     },
     "execution_count": 47,
     "metadata": {},
     "output_type": "execute_result"
    }
   ],
   "source": [
    "#preferred way to sum floating point (faster) using fsum\n",
    "import math\n",
    "math.fsum(range(1,101))"
   ]
  },
  {
   "cell_type": "markdown",
   "metadata": {},
   "source": [
    "### Conditional execution (if)\n"
   ]
  },
  {
   "cell_type": "code",
   "execution_count": 51,
   "metadata": {},
   "outputs": [
    {
     "name": "stdout",
     "output_type": "stream",
     "text": [
      "0.15266945308876112 is bottom quartile\n"
     ]
    }
   ],
   "source": [
    "#if\n",
    "import random\n",
    "r= random.random()\n",
    "if r<0.25:\n",
    "    print(str(r) +' is bottom quartile')\n",
    "elif r<0.5:\n",
    "    print (str(r) + 'is 2nd quartile')\n",
    "else:\n",
    "    print (str(r) +'is above median')"
   ]
  },
  {
   "cell_type": "markdown",
   "metadata": {},
   "source": [
    "### Dictionaries"
   ]
  },
  {
   "cell_type": "code",
   "execution_count": 53,
   "metadata": {},
   "outputs": [
    {
     "data": {
      "text/plain": [
       "160"
      ]
     },
     "execution_count": 53,
     "metadata": {},
     "output_type": "execute_result"
    }
   ],
   "source": [
    "prices={'AMZN':985, 'AAPL':160, 'FB':168}\n",
    "prices['AAPL']"
   ]
  },
  {
   "cell_type": "code",
   "execution_count": 62,
   "metadata": {},
   "outputs": [
    {
     "data": {
      "text/plain": [
       "{'0': 28,\n",
       " '1': 34,\n",
       " '2': 23,\n",
       " '3': 25,\n",
       " '4': 35,\n",
       " '5': 35,\n",
       " '6': 34,\n",
       " '7': 35,\n",
       " '8': 30,\n",
       " '9': 23}"
      ]
     },
     "execution_count": 62,
     "metadata": {},
     "output_type": "execute_result"
    }
   ],
   "source": [
    "#distribution of characters in a string\n",
    "s = \"The quick brown fox jumps over the lazy dog.\"\n",
    "charToCountDictionary={c:0 for c in s}\n",
    "for c in s:\n",
    "    charToCountDictionary[c] +=1\n",
    "charToCountDictionary['e']\n",
    "\n",
    "s=str(2**1000)\n",
    "charToCountDictionary={c:0 for c in s}\n",
    "for c in s:\n",
    "    charToCountDictionary[c] +=1\n",
    "charToCountDictionary"
   ]
  },
  {
   "cell_type": "markdown",
   "metadata": {},
   "source": [
    "## Functions"
   ]
  },
  {
   "cell_type": "code",
   "execution_count": 31,
   "metadata": {},
   "outputs": [
    {
     "name": "stdout",
     "output_type": "stream",
     "text": [
      "0! = 1\n",
      "1! = 1\n",
      "2! = 2\n",
      "3! = 6\n",
      "4! = 24\n"
     ]
    }
   ],
   "source": [
    "def factorial(n):\n",
    "    if n==0:\n",
    "        return 1\n",
    "    if n==1:\n",
    "        return 1\n",
    "    if n==2:\n",
    "        return 2\n",
    "    if n==3:\n",
    "        return 6\n",
    "    if n==4:\n",
    "        return 24\n",
    "    \n",
    "    \n",
    "for n in range(0,5):\n",
    "    print(str(n) +\"! =\", factorial(n))"
   ]
  },
  {
   "cell_type": "code",
   "execution_count": 34,
   "metadata": {},
   "outputs": [
    {
     "name": "stdout",
     "output_type": "stream",
     "text": [
      "16\n"
     ]
    }
   ],
   "source": [
    "def gcd(a, b):\n",
    "    ...\n",
    "\n",
    "print(gcd(144, 256))"
   ]
  },
  {
   "cell_type": "code",
   "execution_count": null,
   "metadata": {
    "collapsed": true
   },
   "outputs": [],
   "source": []
  }
 ],
 "metadata": {
  "kernelspec": {
   "display_name": "Python 3",
   "language": "python",
   "name": "python3"
  },
  "language_info": {
   "codemirror_mode": {
    "name": "ipython",
    "version": 3
   },
   "file_extension": ".py",
   "mimetype": "text/x-python",
   "name": "python",
   "nbconvert_exporter": "python",
   "pygments_lexer": "ipython3",
   "version": "3.6.1"
  }
 },
 "nbformat": 4,
 "nbformat_minor": 1
}
